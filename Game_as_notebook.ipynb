{
 "cells": [
  {
   "cell_type": "markdown",
   "id": "postal-defense",
   "metadata": {},
   "source": [
    "## Game.py"
   ]
  },
  {
   "cell_type": "code",
   "execution_count": 1,
   "id": "bound-press",
   "metadata": {},
   "outputs": [
    {
     "name": "stdout",
     "output_type": "stream",
     "text": [
      "{'p1': 0.2332, 'p2': 0.2301, 'p0': 0.2985, 'p3': 0.2382}\n"
     ]
    }
   ],
   "source": [
    "# from Cards.StandarDeck import StandarDeck\n",
    "from StandarDeck import StandarDeck\n",
    "from Player import Player\n",
    "import random\n",
    "import sys\n",
    "\n",
    "#def distripute(players):\n",
    "\t#for i in range(4):\n",
    "\t#\t players[i].setHand(standardeck.distripute(13))\n",
    "\t#\t #print(players[i])\n",
    "\n",
    "\n",
    "if len(sys.argv)>=2: \n",
    "\tmax_card_strategy = True\n",
    "else:\n",
    "\tmax_card_strategy = False\n",
    "\n",
    "\n",
    "def simulate_one_game():\n",
    "\tstandardeck = StandarDeck()\n",
    "\t#tarneeb = None\n",
    "\ttarneeb = random.choice([\"club\", \"diamond\", \"heart\", \"spade\"])\n",
    "\t\n",
    "\tplayers = []\n",
    "\tfor i in range(4):\n",
    "\t\tplayers.append(Player(\"p\" + str(i), max_card_strategy) )\n",
    "\t\n",
    "\t#distripute(players)\n",
    "\tfor i in range(4):\n",
    "\t\tplayers[i].setHand(standardeck.distripute(13))\n",
    "\t\n",
    "\twinner = 0\n",
    "\t#for j in range(2):\n",
    "\tj = 0\n",
    "\twhile len(players[0].hand) > 0:\n",
    "\t\tj += 1\n",
    "\t\t#print(str(j) + \"----------------------------------------------------------------------------\")\n",
    "\t\ttour = []\n",
    "\t\tfor i in range(4):\n",
    "\t\t\ttour.append(players[(i + winner)%4].playCard(tour))\n",
    "\t\t\t#print(tour)\n",
    "\t\twinner = (standardeck.winner(tour, tarneeb) + winner)%4\n",
    "\t\tplayers[winner].win(tour)\n",
    "\t\t#for i in range(4):\n",
    "\t\t#\tprint(players[i])\n",
    "\n",
    "\tbest_player = ''\n",
    "\tbest_score\t= 0\n",
    "\tfor i in range(4):\n",
    "\t\t#print(players[i].name, \": \", players[i].getScoreTarneeb())\n",
    "\t\tif best_score < players[i].getScoreTarneeb():\n",
    "\t\t\t#best_player = players[i].name\n",
    "\t\t\tbest_score = players[i].getScoreTarneeb()\n",
    "\t\n",
    "\tbest_player = random.choice([players[i].name for i in range(4) if players[i].getScoreTarneeb()==best_score])\n",
    "\treturn best_player\n",
    "\n",
    "\n",
    "def simulate_multiple_game(n):\n",
    "\tplayer_dict = {}\n",
    "\tfor i in range(n):\n",
    "\t\tbest_player = simulate_one_game()\n",
    "\t\t#print(best_player)\n",
    "\t\tplayer_dict[best_player] = player_dict.get(best_player, 0) + 1 \n",
    "\t\t#print('-'*50)\n",
    "\tfor key, value in player_dict.items():\n",
    "\t\tplayer_dict[key] = value / n\n",
    "\tprint(player_dict)\n",
    "\n",
    "\n",
    "simulate_multiple_game(10_000)"
   ]
  }
 ],
 "metadata": {
  "kernelspec": {
   "display_name": "Python 3",
   "language": "python",
   "name": "python3"
  },
  "language_info": {
   "codemirror_mode": {
    "name": "ipython",
    "version": 3
   },
   "file_extension": ".py",
   "mimetype": "text/x-python",
   "name": "python",
   "nbconvert_exporter": "python",
   "pygments_lexer": "ipython3",
   "version": "3.6.8"
  },
  "toc": {
   "base_numbering": 1,
   "nav_menu": {},
   "number_sections": true,
   "sideBar": true,
   "skip_h1_title": false,
   "title_cell": "Table of Contents",
   "title_sidebar": "Contents",
   "toc_cell": false,
   "toc_position": {},
   "toc_section_display": true,
   "toc_window_display": false
  }
 },
 "nbformat": 4,
 "nbformat_minor": 5
}
